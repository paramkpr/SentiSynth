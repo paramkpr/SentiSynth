{
 "cells": [
  {
   "cell_type": "code",
   "execution_count": 18,
   "metadata": {},
   "outputs": [
    {
     "data": {
      "application/vnd.jupyter.widget-view+json": {
       "model_id": "dc19d481bb0242b890b29e0e925da1e9",
       "version_major": 2,
       "version_minor": 0
      },
      "text/plain": [
       "Map:   0%|          | 0/3368 [00:00<?, ? examples/s]"
      ]
     },
     "metadata": {},
     "output_type": "display_data"
    },
    {
     "name": "stderr",
     "output_type": "stream",
     "text": [
      "Asking to truncate to max_length but no maximum length is provided and the model has no predefined maximum length. Default to no truncation.\n"
     ]
    },
    {
     "data": {
      "application/vnd.jupyter.widget-view+json": {
       "model_id": "64918766e1d44b2a8899845e43d45d9a",
       "version_major": 2,
       "version_minor": 0
      },
      "text/plain": [
       "Map:   0%|          | 0/3368 [00:00<?, ? examples/s]"
      ]
     },
     "metadata": {},
     "output_type": "display_data"
    },
    {
     "name": "stderr",
     "output_type": "stream",
     "text": [
      "Asking to truncate to max_length but no maximum length is provided and the model has no predefined maximum length. Default to no truncation.\n"
     ]
    }
   ],
   "source": [
    "from datasets import load_from_disk, Dataset\n",
    "from transformers import AutoTokenizer, AutoModelForSequenceClassification\n",
    "import torch, pandas as pd\n",
    "from sklearn.metrics import classification_report, confusion_matrix\n",
    "\n",
    "def infer(model_dir, test_path):\n",
    "    ds = load_from_disk(test_path)[\"sanity\"]      # HFD Dataset\n",
    "    tokenizer = AutoTokenizer.from_pretrained(model_dir)\n",
    "    device   = torch.device(\"cuda\" if torch.cuda.is_available() else \"cpu\")\n",
    "    model    = AutoModelForSequenceClassification.from_pretrained(model_dir).to(device).eval()\n",
    "\n",
    "    \n",
    "    def _pred(batch):\n",
    "        toks = tokenizer(batch[\"text\"], padding=True, truncation=True, return_tensors=\"pt\")\n",
    "        with torch.no_grad():\n",
    "            toks = tokenizer(batch[\"text\"], padding=True, truncation=True, return_tensors=\"pt\").to(device)\n",
    "            logits = model(**toks).logits\n",
    "        return {\"pred\": logits.argmax(-1)}\n",
    "\n",
    "    preds = ds.map(_pred, batched=True, batch_size=32)\n",
    "    return preds\n",
    "\n",
    "base  = infer(\"/home/ubuntu/SentiSynth/runs/student/real_1k/\", \"/home/ubuntu/SentiSynth/data/real_1k\")\n",
    "aug20 = infer(\"/home/ubuntu/SentiSynth/runs/student/mix_20k_real_1k/\", \"/home/ubuntu/SentiSynth/data/mix_20k_real_1k\")\n"
   ]
  },
  {
   "cell_type": "code",
   "execution_count": 19,
   "metadata": {},
   "outputs": [
    {
     "name": "stdout",
     "output_type": "stream",
     "text": [
      "              precision    recall  f1-score   support\n",
      "\n",
      "           0      0.744     0.737     0.740      1496\n",
      "           1      0.791     0.797     0.794      1872\n",
      "\n",
      "    accuracy                          0.770      3368\n",
      "   macro avg      0.767     0.767     0.767      3368\n",
      "weighted avg      0.770     0.770     0.770      3368\n",
      "\n"
     ]
    }
   ],
   "source": [
    "from sklearn.metrics import classification_report\n",
    "print(classification_report(\n",
    "        y_true=list(base[\"labels\"]),\n",
    "        y_pred=list(base[\"pred\"]),\n",
    "        digits=3))"
   ]
  },
  {
   "cell_type": "code",
   "execution_count": 20,
   "metadata": {},
   "outputs": [
    {
     "data": {
      "application/vnd.jupyter.widget-view+json": {
       "model_id": "cecb4641fe724dc199027e2255cb7b74",
       "version_major": 2,
       "version_minor": 0
      },
      "text/plain": [
       "Filter:   0%|          | 0/3368 [00:00<?, ? examples/s]"
      ]
     },
     "metadata": {},
     "output_type": "display_data"
    },
    {
     "data": {
      "application/vnd.jupyter.widget-view+json": {
       "model_id": "a1b02f2e6605490080460fc3660f6481",
       "version_major": 2,
       "version_minor": 0
      },
      "text/plain": [
       "Filter:   0%|          | 0/3368 [00:00<?, ? examples/s]"
      ]
     },
     "metadata": {},
     "output_type": "display_data"
    },
    {
     "name": "stdout",
     "output_type": "stream",
     "text": [
      "≤10 tokens      | base=0.785  →  aug20=0.828\n"
     ]
    },
    {
     "data": {
      "application/vnd.jupyter.widget-view+json": {
       "model_id": "17bfedadb62c408f9e8f2abc146d175d",
       "version_major": 2,
       "version_minor": 0
      },
      "text/plain": [
       "Filter:   0%|          | 0/3368 [00:00<?, ? examples/s]"
      ]
     },
     "metadata": {},
     "output_type": "display_data"
    },
    {
     "data": {
      "application/vnd.jupyter.widget-view+json": {
       "model_id": "11519395b7504bd9aad07696bd4d62af",
       "version_major": 2,
       "version_minor": 0
      },
      "text/plain": [
       "Filter:   0%|          | 0/3368 [00:00<?, ? examples/s]"
      ]
     },
     "metadata": {},
     "output_type": "display_data"
    },
    {
     "name": "stdout",
     "output_type": "stream",
     "text": [
      "11‑20 tokens    | base=0.741  →  aug20=0.782\n"
     ]
    },
    {
     "data": {
      "application/vnd.jupyter.widget-view+json": {
       "model_id": "12c4ec80b28142258fa803edd9b2e007",
       "version_major": 2,
       "version_minor": 0
      },
      "text/plain": [
       "Filter:   0%|          | 0/3368 [00:00<?, ? examples/s]"
      ]
     },
     "metadata": {},
     "output_type": "display_data"
    },
    {
     "data": {
      "application/vnd.jupyter.widget-view+json": {
       "model_id": "92be7ffb9493451499a9a75a54ac5e80",
       "version_major": 2,
       "version_minor": 0
      },
      "text/plain": [
       "Filter:   0%|          | 0/3368 [00:00<?, ? examples/s]"
      ]
     },
     "metadata": {},
     "output_type": "display_data"
    },
    {
     "name": "stdout",
     "output_type": "stream",
     "text": [
      "negation        | base=0.682  →  aug20=0.740\n"
     ]
    },
    {
     "data": {
      "application/vnd.jupyter.widget-view+json": {
       "model_id": "32fdca423cd44e3a982f15279da55021",
       "version_major": 2,
       "version_minor": 0
      },
      "text/plain": [
       "Filter:   0%|          | 0/3368 [00:00<?, ? examples/s]"
      ]
     },
     "metadata": {},
     "output_type": "display_data"
    },
    {
     "data": {
      "application/vnd.jupyter.widget-view+json": {
       "model_id": "0f68373438fa4a029481cb1b0ffec794",
       "version_major": 2,
       "version_minor": 0
      },
      "text/plain": [
       "Filter:   0%|          | 0/3368 [00:00<?, ? examples/s]"
      ]
     },
     "metadata": {},
     "output_type": "display_data"
    },
    {
     "name": "stdout",
     "output_type": "stream",
     "text": [
      "no‑negation     | base=0.778  →  aug20=0.822\n"
     ]
    }
   ],
   "source": [
    "import numpy as np, re, seaborn as sns, matplotlib.pyplot as plt\n",
    "neg_regex = re.compile(r\"\\b(not|n't|never|no)\\b\", flags=re.I)\n",
    "\n",
    "def add_attrs(ds: Dataset):\n",
    "    ds = ds.add_column(\"len\",   [len(t.split()) for t in ds[\"text\"]])\n",
    "    ds = ds.add_column(\"neg\",   [bool(neg_regex.search(t)) for t in ds[\"text\"]])\n",
    "    return ds\n",
    "base  = add_attrs(base)\n",
    "aug20 = add_attrs(aug20)\n",
    "\n",
    "def rate(ds, cond):\n",
    "    mask = ds.filter(cond)\n",
    "    report = classification_report(mask[\"labels\"], mask[\"pred\"],output_dict=True)\n",
    "    return report[\"accuracy\"]\n",
    "\n",
    "for label, cond in {\n",
    "        \"≤10 tokens\":  lambda ex: ex[\"len\"] <= 10,\n",
    "        \"11‑20 tokens\":lambda ex: 10 < ex[\"len\"] <= 20,\n",
    "        \"negation\":    lambda ex: ex[\"neg\"],\n",
    "        \"no‑negation\": lambda ex: not ex[\"neg\"]\n",
    "    }.items():\n",
    "    print(f\"{label:15s} | base={rate(base,cond):.3f}  →  aug20={rate(aug20,cond):.3f}\")\n"
   ]
  },
  {
   "cell_type": "code",
   "execution_count": null,
   "metadata": {},
   "outputs": [
    {
     "data": {
      "text/html": [
       "<div>\n",
       "<style scoped>\n",
       "    .dataframe tbody tr th:only-of-type {\n",
       "        vertical-align: middle;\n",
       "    }\n",
       "\n",
       "    .dataframe tbody tr th {\n",
       "        vertical-align: top;\n",
       "    }\n",
       "\n",
       "    .dataframe thead th {\n",
       "        text-align: right;\n",
       "    }\n",
       "</style>\n",
       "<table border=\"1\" class=\"dataframe\">\n",
       "  <thead>\n",
       "    <tr style=\"text-align: right;\">\n",
       "      <th></th>\n",
       "      <th>text</th>\n",
       "      <th>true</th>\n",
       "      <th>pred</th>\n",
       "    </tr>\n",
       "  </thead>\n",
       "  <tbody>\n",
       "    <tr>\n",
       "      <th>0</th>\n",
       "      <td>covered earlier and much better</td>\n",
       "      <td>0</td>\n",
       "      <td>1</td>\n",
       "    </tr>\n",
       "    <tr>\n",
       "      <th>1</th>\n",
       "      <td>what does n't this film have that an impressio...</td>\n",
       "      <td>1</td>\n",
       "      <td>0</td>\n",
       "    </tr>\n",
       "    <tr>\n",
       "      <th>2</th>\n",
       "      <td>the campy results make mel brooks ' borscht be...</td>\n",
       "      <td>1</td>\n",
       "      <td>0</td>\n",
       "    </tr>\n",
       "    <tr>\n",
       "      <th>3</th>\n",
       "      <td>than indecent proposal</td>\n",
       "      <td>1</td>\n",
       "      <td>0</td>\n",
       "    </tr>\n",
       "    <tr>\n",
       "      <th>4</th>\n",
       "      <td>the mystery of enigma is how a rich historical...</td>\n",
       "      <td>0</td>\n",
       "      <td>1</td>\n",
       "    </tr>\n",
       "    <tr>\n",
       "      <th>5</th>\n",
       "      <td>that flow through the hollywood pipeline witho...</td>\n",
       "      <td>1</td>\n",
       "      <td>0</td>\n",
       "    </tr>\n",
       "    <tr>\n",
       "      <th>6</th>\n",
       "      <td>is too bad that this likable movie is n't more...</td>\n",
       "      <td>1</td>\n",
       "      <td>0</td>\n",
       "    </tr>\n",
       "    <tr>\n",
       "      <th>7</th>\n",
       "      <td>joyless</td>\n",
       "      <td>0</td>\n",
       "      <td>1</td>\n",
       "    </tr>\n",
       "    <tr>\n",
       "      <th>8</th>\n",
       "      <td>ready-made midnight movie</td>\n",
       "      <td>1</td>\n",
       "      <td>0</td>\n",
       "    </tr>\n",
       "    <tr>\n",
       "      <th>9</th>\n",
       "      <td>a third-person story now , told by hollywood ,...</td>\n",
       "      <td>0</td>\n",
       "      <td>1</td>\n",
       "    </tr>\n",
       "    <tr>\n",
       "      <th>10</th>\n",
       "      <td>, nickelodeon-esque kiddie flick</td>\n",
       "      <td>1</td>\n",
       "      <td>0</td>\n",
       "    </tr>\n",
       "    <tr>\n",
       "      <th>11</th>\n",
       "      <td>offers no new insight</td>\n",
       "      <td>0</td>\n",
       "      <td>1</td>\n",
       "    </tr>\n",
       "    <tr>\n",
       "      <th>12</th>\n",
       "      <td>who needs mind-bending drugs when they can see...</td>\n",
       "      <td>1</td>\n",
       "      <td>0</td>\n",
       "    </tr>\n",
       "    <tr>\n",
       "      <th>13</th>\n",
       "      <td>pale successor</td>\n",
       "      <td>0</td>\n",
       "      <td>1</td>\n",
       "    </tr>\n",
       "    <tr>\n",
       "      <th>14</th>\n",
       "      <td>still want my money back .</td>\n",
       "      <td>0</td>\n",
       "      <td>1</td>\n",
       "    </tr>\n",
       "    <tr>\n",
       "      <th>15</th>\n",
       "      <td>for nearly three hours</td>\n",
       "      <td>1</td>\n",
       "      <td>0</td>\n",
       "    </tr>\n",
       "    <tr>\n",
       "      <th>16</th>\n",
       "      <td>amy and matthew have a bit of a phony relation...</td>\n",
       "      <td>0</td>\n",
       "      <td>1</td>\n",
       "    </tr>\n",
       "    <tr>\n",
       "      <th>17</th>\n",
       "      <td>classy</td>\n",
       "      <td>1</td>\n",
       "      <td>0</td>\n",
       "    </tr>\n",
       "    <tr>\n",
       "      <th>18</th>\n",
       "      <td>wo n't have any trouble getting kids to eat up...</td>\n",
       "      <td>1</td>\n",
       "      <td>0</td>\n",
       "    </tr>\n",
       "    <tr>\n",
       "      <th>19</th>\n",
       "      <td>a movie with depth</td>\n",
       "      <td>1</td>\n",
       "      <td>0</td>\n",
       "    </tr>\n",
       "  </tbody>\n",
       "</table>\n",
       "</div>"
      ],
      "text/plain": [
       "                                                 text  true  pred\n",
       "0                     covered earlier and much better     0     1\n",
       "1   what does n't this film have that an impressio...     1     0\n",
       "2   the campy results make mel brooks ' borscht be...     1     0\n",
       "3                              than indecent proposal     1     0\n",
       "4   the mystery of enigma is how a rich historical...     0     1\n",
       "5   that flow through the hollywood pipeline witho...     1     0\n",
       "6   is too bad that this likable movie is n't more...     1     0\n",
       "7                                             joyless     0     1\n",
       "8                           ready-made midnight movie     1     0\n",
       "9   a third-person story now , told by hollywood ,...     0     1\n",
       "10                   , nickelodeon-esque kiddie flick     1     0\n",
       "11                              offers no new insight     0     1\n",
       "12  who needs mind-bending drugs when they can see...     1     0\n",
       "13                                     pale successor     0     1\n",
       "14                         still want my money back .     0     1\n",
       "15                             for nearly three hours     1     0\n",
       "16  amy and matthew have a bit of a phony relation...     0     1\n",
       "17                                             classy     1     0\n",
       "18  wo n't have any trouble getting kids to eat up...     1     0\n",
       "19                                 a movie with depth     1     0"
      ]
     },
     "metadata": {},
     "output_type": "display_data"
    }
   ],
   "source": [
    "err = aug20.filter(lambda ex: ex[\"pred\"]!=ex[\"labels\"]).select(range(20))\n",
    "errdf = pd.DataFrame({\n",
    "    \"text\": [t for t in err[\"text\"]],\n",
    "    \"true\": err[\"labels\"],\n",
    "    \"pred\": err[\"pred\"]\n",
    "})\n",
    "display(errdf)\n",
    "errdf.to_csv(\"~/SentiSynth/notebooks/error_analysis.csv\", index=False, encoding=\"utf‑8\")\n"
   ]
  },
  {
   "cell_type": "code",
   "execution_count": 22,
   "metadata": {},
   "outputs": [],
   "source": [
    "import glob, json, collections, math\n",
    "\n",
    "def load_jsonl(path):\n",
    "    with open(path) as f:\n",
    "        return [json.loads(line) for line in f]\n",
    "\n",
    "synth_07 = load_jsonl(\"/home/ubuntu/SentiSynth/data/synthetic_sst2_tau_0.7/train.jsonl\")\n",
    "synth_08 = load_jsonl(\"/home/ubuntu/SentiSynth/data/synthetic_sst2_tau_0.8/train.jsonl\")\n",
    "synth_09 = load_jsonl(\"/home/ubuntu/SentiSynth/data/synthetic_sst2_tau_0.9/train.jsonl\")\n"
   ]
  },
  {
   "cell_type": "code",
   "execution_count": 23,
   "metadata": {},
   "outputs": [],
   "source": [
    "def distinct_n(samples, n):\n",
    "    total_tokens, unique_ngrams = 0, set()\n",
    "    for s in samples:\n",
    "        toks = s.lower().split()\n",
    "        total_tokens += len(toks)\n",
    "        for i in range(len(toks)-n+1):\n",
    "            unique_ngrams.add(tuple(toks[i:i+n]))\n",
    "    return len(unique_ngrams)/max(1,total_tokens)\n",
    "\n",
    "def avg_entropy(dataset):\n",
    "    ent = []\n",
    "    for row in dataset:\n",
    "        p_neg, p_pos = row[\"soft_labels\"]\n",
    "        e = -sum(p*math.log(p+1e-12) for p in (p_neg, p_pos))\n",
    "        ent.append(e)\n",
    "    return sum(ent)/len(ent)\n"
   ]
  },
  {
   "cell_type": "code",
   "execution_count": 27,
   "metadata": {},
   "outputs": [
    {
     "data": {
      "text/html": [
       "<div>\n",
       "<style scoped>\n",
       "    .dataframe tbody tr th:only-of-type {\n",
       "        vertical-align: middle;\n",
       "    }\n",
       "\n",
       "    .dataframe tbody tr th {\n",
       "        vertical-align: top;\n",
       "    }\n",
       "\n",
       "    .dataframe thead th {\n",
       "        text-align: right;\n",
       "    }\n",
       "</style>\n",
       "<table border=\"1\" class=\"dataframe\">\n",
       "  <thead>\n",
       "    <tr style=\"text-align: right;\">\n",
       "      <th></th>\n",
       "      <th>tau</th>\n",
       "      <th>Distinct-1</th>\n",
       "      <th>Distinct-2</th>\n",
       "      <th>Entropy</th>\n",
       "    </tr>\n",
       "  </thead>\n",
       "  <tbody>\n",
       "    <tr>\n",
       "      <th>0</th>\n",
       "      <td>0.7</td>\n",
       "      <td>0.022382</td>\n",
       "      <td>0.262025</td>\n",
       "      <td>0.681052</td>\n",
       "    </tr>\n",
       "    <tr>\n",
       "      <th>1</th>\n",
       "      <td>0.8</td>\n",
       "      <td>0.024106</td>\n",
       "      <td>0.268781</td>\n",
       "      <td>0.675690</td>\n",
       "    </tr>\n",
       "    <tr>\n",
       "      <th>2</th>\n",
       "      <td>0.9</td>\n",
       "      <td>0.026319</td>\n",
       "      <td>0.277667</td>\n",
       "      <td>0.668949</td>\n",
       "    </tr>\n",
       "  </tbody>\n",
       "</table>\n",
       "</div>"
      ],
      "text/plain": [
       "   tau  Distinct-1  Distinct-2   Entropy\n",
       "0  0.7    0.022382    0.262025  0.681052\n",
       "1  0.8    0.024106    0.268781  0.675690\n",
       "2  0.9    0.026319    0.277667  0.668949"
      ]
     },
     "metadata": {},
     "output_type": "display_data"
    }
   ],
   "source": [
    "rows = []\n",
    "for name, ds in [(\"0.7\", synth_07), (\"0.8\", synth_08), (\"0.9\", synth_09)]:\n",
    "    rows.append({\n",
    "        \"tau\": float(name),\n",
    "        \"Distinct-1\": distinct_n([r[\"text\"] for r in ds], 1),\n",
    "        \"Distinct-2\": distinct_n([r[\"text\"] for r in ds], 2),\n",
    "        \"Entropy\":    avg_entropy(ds),\n",
    "    })\n",
    "\n",
    "import pandas as pd\n",
    "df = pd.DataFrame(rows)\n",
    "display(df)\n"
   ]
  },
  {
   "cell_type": "code",
   "execution_count": 29,
   "metadata": {},
   "outputs": [
    {
     "data": {
      "image/png": "[encoded data removed]",
      "text/plain": [
       "<Figure size 640x480 with 1 Axes>"
      ]
     },
     "metadata": {},
     "output_type": "display_data"
    },
    {
     "data": {
      "image/png": "[encoded data removed]",
      "text/plain": [
       "<Figure size 640x480 with 1 Axes>"
      ]
     },
     "metadata": {},
     "output_type": "display_data"
    },
    {
     "data": {
      "image/png": "[encoded data removed]",
      "text/plain": [
       "<Figure size 640x480 with 1 Axes>"
      ]
     },
     "metadata": {},
     "output_type": "display_data"
    }
   ],
   "source": [
    "import matplotlib.pyplot as plt\n",
    "metrics = [\"Distinct-1\", \"Distinct-2\", \"Entropy\"]\n",
    "x = df[\"tau\"]\n",
    "\n",
    "for metric in metrics:\n",
    "    plt.figure()\n",
    "    plt.bar(x, df[metric])\n",
    "    plt.xlabel(\"τ (min‑confidence)\")\n",
    "    plt.ylabel(metric)\n",
    "    plt.title(f\"{metric} vs. τ\")\n",
    "    plt.tight_layout()\n",
    "    plt.savefig(f\"/home/ubuntu/SentiSynth/notebooks{metric.lower()}_vs_tau.png\")\n",
    "\n"
   ]
  }
 ],
 "metadata": {
  "kernelspec": {
   "display_name": "Python 3 (ipykernel)",
   "language": "python",
   "name": "python3"
  },
  "language_info": {
   "codemirror_mode": {
    "name": "ipython",
    "version": 3
   },
   "file_extension": ".py",
   "mimetype": "text/x-python",
   "name": "python",
   "nbconvert_exporter": "python",
   "pygments_lexer": "ipython3",
   "version": "3.11.2"
  }
 },
 "nbformat": 4,
 "nbformat_minor": 2
}
